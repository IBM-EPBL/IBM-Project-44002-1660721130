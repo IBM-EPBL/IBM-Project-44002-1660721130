{
  "nbformat": 4,
  "nbformat_minor": 0,
  "metadata": {
    "colab": {
      "provenance": []
    },
    "kernelspec": {
      "name": "python3",
      "display_name": "Python 3"
    },
    "language_info": {
      "name": "python"
    }
  },
  "cells": [
    {
      "cell_type": "code",
      "execution_count": null,
      "metadata": {
        "id": "0iSKxgqkJjoh"
      },
      "outputs": [],
      "source": [
        "from keras.preprocessing.image import ImageDataGenerator"
      ]
    },
    {
      "cell_type": "code",
      "source": [
        "train_datagen = ImageDataGenerator(rescale=1./255,shear_range=0.2,zoom_range=0.2,horizontal_flip=True)\n",
        "test_datagen =ImageDataGenerator(rescale=1./255)"
      ],
      "metadata": {
        "id": "krwZk8_LJy5z"
      },
      "execution_count": null,
      "outputs": []
    },
    {
      "cell_type": "code",
      "source": [
        "x_train = train_datagen.flow_from_directory(\n",
        "    r'C:\\Users\\HP\\Documents\\DataSet\\TRAIN_SET-20221021T095226Z-001\\TRAIN_SET',target_size=(64, 64),batch_size=5,color_mode='rgb',class_mode='sparse')\n",
        "x_test = test_datagen.flow_from_directory(\n",
        "    r'C:\\Users\\HP\\Documents\\DataSet\\TEST_SET-20221021T095157Z-001\\TEST_SET' ,target_size=(64, 64),batch_size=5,color_mode='rgb',class_mode='sparse')"
      ],
      "metadata": {
        "id": "FwQx0CzfLvTC"
      },
      "execution_count": null,
      "outputs": []
    },
    {
      "cell_type": "markdown",
      "source": [
        "Found 4118 images belonging to 5 classes.\n",
        "Found 929 images belonging to 5 classes."
      ],
      "metadata": {
        "id": "vSz6srAELC3p"
      }
    },
    {
      "cell_type": "code",
      "source": [
        "print (x_train.class_indices)"
      ],
      "metadata": {
        "id": "7VVf0IGUL6vG"
      },
      "execution_count": null,
      "outputs": []
    },
    {
      "cell_type": "markdown",
      "source": [
        "{'APPLES': 0, 'BANANA': 1, 'ORANGE': 2, 'PINEAPPLE': 3, 'WATERMELON': 4}"
      ],
      "metadata": {
        "id": "D51tFBmVL-jk"
      }
    },
    {
      "cell_type": "code",
      "source": [
        "print(x_test.class_indices)\n"
      ],
      "metadata": {
        "id": "sQdRE_akMBFy"
      },
      "execution_count": null,
      "outputs": []
    },
    {
      "cell_type": "markdown",
      "source": [
        "{'APPLES': 0, 'BANANA': 1, 'ORANGE': 2, 'PINEAPPLE': 3, 'WATERMELON': 4}"
      ],
      "metadata": {
        "id": "ZkDBP_5lMHMC"
      }
    },
    {
      "cell_type": "code",
      "source": [
        "from collections import Counter as c\n",
        "c(x_train.labels)\n"
      ],
      "metadata": {
        "id": "k62oUFSdMQ_L"
      },
      "execution_count": null,
      "outputs": []
    },
    {
      "cell_type": "markdown",
      "source": [
        "Counter({0: 995, 1: 1354, 2: 1019, 3: 275, 4: 475})"
      ],
      "metadata": {
        "id": "C-CxHgFBMOaX"
      }
    },
    {
      "cell_type": "code",
      "source": [
        "from keras.models import Sequential\n",
        "from keras.layers import Dense\n",
        "from keras.layers import Conv2D\n",
        "from keras.layers import MaxPooling2D\n",
        "from keras.layers import Flatten"
      ],
      "metadata": {
        "id": "VsV0VAqqMgin"
      },
      "execution_count": null,
      "outputs": []
    },
    {
      "cell_type": "code",
      "source": [
        "import numpy as np"
      ],
      "metadata": {
        "id": "OxoQkma7Mljs"
      },
      "execution_count": null,
      "outputs": []
    },
    {
      "cell_type": "code",
      "source": [
        "import tensorflow"
      ],
      "metadata": {
        "id": "ThZr6oc9Mpci"
      },
      "execution_count": null,
      "outputs": []
    },
    {
      "cell_type": "code",
      "source": [
        "from tensorflow.keras.models import Sequential"
      ],
      "metadata": {
        "id": "JJiIMOt9MuLC"
      },
      "execution_count": null,
      "outputs": []
    },
    {
      "cell_type": "code",
      "source": [
        "from tensorflow.keras import layers"
      ],
      "metadata": {
        "id": "OrB0ZlkoMy4C"
      },
      "execution_count": null,
      "outputs": []
    },
    {
      "cell_type": "code",
      "source": [
        "from tensorflow.keras.layers import Dense, Flatten"
      ],
      "metadata": {
        "id": "q6_poxeRM3Oj"
      },
      "execution_count": null,
      "outputs": []
    },
    {
      "cell_type": "code",
      "source": [
        "from tensorflow.keras.layers import Conv2D,MaxPooling2D,Dropout"
      ],
      "metadata": {
        "id": "gKHMJXkMM--q"
      },
      "execution_count": null,
      "outputs": []
    },
    {
      "cell_type": "code",
      "source": [
        "from keras.preprocessing.image import ImageDataGenerator"
      ],
      "metadata": {
        "id": "x7xoezd8NDoh"
      },
      "execution_count": null,
      "outputs": []
    },
    {
      "cell_type": "code",
      "source": [
        "model=Sequential()"
      ],
      "metadata": {
        "id": "J7pCOhODNKFO"
      },
      "execution_count": null,
      "outputs": []
    },
    {
      "cell_type": "code",
      "source": [
        "model.add(Conv2D(32,3,3,input_shape=(64,64,3),activation='relu'))"
      ],
      "metadata": {
        "id": "aWMTWtL9NPPi"
      },
      "execution_count": null,
      "outputs": []
    },
    {
      "cell_type": "code",
      "source": [
        "model.add(MaxPooling2D(pool_size=(2,2)))"
      ],
      "metadata": {
        "id": "lh_NBqjwNSuA"
      },
      "execution_count": null,
      "outputs": []
    },
    {
      "cell_type": "code",
      "source": [
        "model.add(Flatten())"
      ],
      "metadata": {
        "id": "3eeILy5JNWSv"
      },
      "execution_count": null,
      "outputs": []
    },
    {
      "cell_type": "code",
      "source": [
        "#model.add(Dense(output_dim=128,activation='relu',init='random_uniform'))"
      ],
      "metadata": {
        "id": "FKYop4e3NZiQ"
      },
      "execution_count": null,
      "outputs": []
    },
    {
      "cell_type": "code",
      "source": [
        "#model.add(Dense(output_dim=1,activation='sigmoid',init='random_uniform'))"
      ],
      "metadata": {
        "id": "NsdAtHOJNgHW"
      },
      "execution_count": null,
      "outputs": []
    },
    {
      "cell_type": "code",
      "source": [
        "classifier = Sequential()"
      ],
      "metadata": {
        "id": "4cxCvJltNjBn"
      },
      "execution_count": null,
      "outputs": []
    },
    {
      "cell_type": "code",
      "source": [
        "classifier.add(Conv2D(32, (3, 3), input_shape=(64, 64, 3), activation='relu'))\n",
        "classifier.add(MaxPooling2D(pool_size=(2, 2)))"
      ],
      "metadata": {
        "id": "JY3Acc8pNmSH"
      },
      "execution_count": null,
      "outputs": []
    },
    {
      "cell_type": "code",
      "source": [
        "classifier.add(Conv2D(32, (3, 3), activation='relu'))\n"
      ],
      "metadata": {
        "id": "wBzEdfV2NqRV"
      },
      "execution_count": null,
      "outputs": []
    },
    {
      "cell_type": "code",
      "source": [
        "classifier.add(MaxPooling2D(pool_size=(2, 2)))"
      ],
      "metadata": {
        "id": "1hX3G-9wNvJY"
      },
      "execution_count": null,
      "outputs": []
    },
    {
      "cell_type": "code",
      "source": [
        "classifier.add(Flatten())"
      ],
      "metadata": {
        "id": "_R3piO0rNwPn"
      },
      "execution_count": null,
      "outputs": []
    },
    {
      "cell_type": "code",
      "source": [
        "classifier.add(Dense(units=128, activation='relu'))\n",
        "classifier.add(Dense(units=5, activation='softmax'))"
      ],
      "metadata": {
        "id": "KsMAA1JYN1ri"
      },
      "execution_count": null,
      "outputs": []
    },
    {
      "cell_type": "code",
      "source": [
        "classifier.summary()"
      ],
      "metadata": {
        "id": "rwfKFK_qN463"
      },
      "execution_count": null,
      "outputs": []
    },
    {
      "cell_type": "markdown",
      "source": [
        "Model: \"sequential_4\"\n",
        "_________________________________________________________________\n",
        " Layer (type)                Output Shape              Param #   \n",
        "=================================================================\n",
        " conv2d_6 (Conv2D)           (None, 62, 62, 32)        896       \n",
        "                                                                 \n",
        " max_pooling2d_8 (MaxPooling  (None, 31, 31, 32)       0         \n",
        " 2D)                                                             \n",
        "                                                                 \n",
        " conv2d_7 (Conv2D)           (None, 29, 29, 32)        9248      \n",
        "                                                                 \n",
        " max_pooling2d_9 (MaxPooling  (None, 14, 14, 32)       0         \n",
        " 2D)                                                             \n",
        "                                                                 \n",
        " flatten_6 (Flatten)         (None, 6272)              0         \n",
        "                                                                 \n",
        " dense_4 (Dense)             (None, 128)               802944    \n",
        "                                                                 \n",
        " dense_5 (Dense)             (None, 5)                 645       \n",
        "                                                                 \n",
        "=================================================================\n",
        "Total params: 813,733\n",
        "Trainable params: 813,733\n",
        "Non-trainable params: 0"
      ],
      "metadata": {
        "id": "zgHMtbFeOAYy"
      }
    },
    {
      "cell_type": "code",
      "source": [
        "\n",
        "classifier.compile(optimizer='adam', loss='sparse_categorical_crossentropy', metrics=['accuracy'])\n"
      ],
      "metadata": {
        "id": "UavrlUm9OFtM"
      },
      "execution_count": null,
      "outputs": []
    },
    {
      "cell_type": "code",
      "source": [
        "classifier.fit_generator(\n",
        "         generator=x_train,steps_per_epoch = len(x_train),\n",
        "         epochs=10, validation_data=x_test,validation_steps = len(x_test))"
      ],
      "metadata": {
        "id": "EC_scKxJOduQ"
      },
      "execution_count": null,
      "outputs": []
    },
    {
      "cell_type": "code",
      "source": [
        "classifier.save('nutrition.h5')"
      ],
      "metadata": {
        "id": "LPEFPpsjOqTQ"
      },
      "execution_count": null,
      "outputs": []
    },
    {
      "cell_type": "code",
      "source": [
        "from tensorflow.keras.models import load_model"
      ],
      "metadata": {
        "id": "kmMN4ABFOwUb"
      },
      "execution_count": null,
      "outputs": []
    },
    {
      "cell_type": "code",
      "source": [
        "from keras.preprocessing import image\n",
        "from tensorflow.keras.preprocessing import image \n",
        "model = load_model(\"nutrition.h5\")"
      ],
      "metadata": {
        "id": "UdKS43-MOzh7"
      },
      "execution_count": null,
      "outputs": []
    },
    {
      "cell_type": "code",
      "source": [
        "x = image.img_to_array(img)\n",
        "x = np.expand_dims(x,axis = 0)\n",
        "pred = np.argmax(model.predict(x)) \n",
        "pred"
      ],
      "metadata": {
        "id": "UZUbQLjXO8py"
      },
      "execution_count": 6,
      "outputs": []
    },
    {
      "cell_type": "markdown",
      "source": [
        "1/1 [==============================] - 0s 241ms/step\n",
        "0"
      ],
      "metadata": {
        "id": "n7ScUrv1P5Tl"
      }
    },
    {
      "cell_type": "code",
      "source": [
        "labels=['APPLES', 'BANANA', 'ORANGE','PINEAPPLE','WATERMELON']\n",
        "labels[np.argmax(pred)]"
      ],
      "metadata": {
        "id": "ESPzkh_wP6pc"
      },
      "execution_count": null,
      "outputs": []
    },
    {
      "cell_type": "code",
      "source": [
        "'APPLES'"
      ],
      "metadata": {
        "id": "c9m8vGTLQEV7"
      },
      "execution_count": null,
      "outputs": []
    }
  ]
}